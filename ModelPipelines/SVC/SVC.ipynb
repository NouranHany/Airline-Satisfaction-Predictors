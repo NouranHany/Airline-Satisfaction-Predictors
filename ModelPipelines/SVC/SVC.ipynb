{
 "cells": [
  {
   "cell_type": "code",
   "execution_count": 1,
   "metadata": {},
   "outputs": [],
   "source": [
    "from  SVC  import *\n",
    "import sys\n",
    "sys.path.insert(0,\"../RandomForest/\")\n",
    "from RandomForest import process_dataframe, spark\n"
   ]
  },
  {
   "attachments": {},
   "cell_type": "markdown",
   "metadata": {},
   "source": [
    "> ***\n",
    ">  _`reading & preprocessing data`_ :\n",
    "> - _`removing nulls`_\n",
    "> - _`removing irrelevant columns such as index`_\n",
    "> - _`Encoding Categorical features`_\n",
    "> - _`Normalizing numerical ordinal features`_\n",
    "> ***"
   ]
  },
  {
   "cell_type": "code",
   "execution_count": 2,
   "metadata": {},
   "outputs": [],
   "source": [
    "train, test=read_data()"
   ]
  },
  {
   "attachments": {},
   "cell_type": "markdown",
   "metadata": {},
   "source": [
    "> ***\n",
    "> -  _`prepare the data in a format that pyspark use which includes only features col  & the classification result (y)`_\n",
    "> ***"
   ]
  },
  {
   "cell_type": "code",
   "execution_count": 3,
   "metadata": {},
   "outputs": [],
   "source": [
    "train=prepare_data(train)\n",
    "test=prepare_data(test)"
   ]
  },
  {
   "cell_type": "code",
   "execution_count": 4,
   "metadata": {},
   "outputs": [
    {
     "name": "stdout",
     "output_type": "stream",
     "text": [
      "(103594, 2)\n",
      "(25893, 2)\n"
     ]
    }
   ],
   "source": [
    "print((train.count(), len(train.columns)))\n",
    "print((test.count(), len(test.columns)))"
   ]
  },
  {
   "cell_type": "code",
   "execution_count": 5,
   "metadata": {},
   "outputs": [
    {
     "name": "stdout",
     "output_type": "stream",
     "text": [
      "Training Accuracy: 0.8746742089310192\n",
      "Test Accuracy: 0.871316572046499\n"
     ]
    }
   ],
   "source": [
    "svc_model(train.cache(),test.cache())"
   ]
  },
  {
   "attachments": {},
   "cell_type": "markdown",
   "metadata": {},
   "source": [
    "> ***\n",
    ">  _`using Grid search & cross validation to tell me the best hyperparameters (regularization & maxIter)  that would yield the best accuracy`_ :\n",
    "> ***"
   ]
  },
  {
   "cell_type": "code",
   "execution_count": 6,
   "metadata": {},
   "outputs": [
    {
     "name": "stdout",
     "output_type": "stream",
     "text": [
      "Best regParam: 0.01\n",
      "Best maxIter: 100\n",
      "Training Accuracy: 0.8773963743073924\n",
      "Test Accuracy: 0.8727455296798362\n"
     ]
    }
   ],
   "source": [
    "Grid_Search(train.cache(),test.cache())"
   ]
  },
  {
   "attachments": {},
   "cell_type": "markdown",
   "metadata": {},
   "source": [
    "> ***\n",
    ">  _`Experimenting whether bucketizing the numerical columns is better than normalization or not in terms of the resulting accuarcy`_ :\n",
    "> ***"
   ]
  },
  {
   "cell_type": "code",
   "execution_count": 7,
   "metadata": {},
   "outputs": [],
   "source": [
    "df_train,df_test = read_data(preprocess=False)\n",
    "\n",
    "df_train, string_indexers, bucketizers = process_dataframe(df_train)\n",
    "df_test, _, _ = process_dataframe(df_test, string_indexers, bucketizers)"
   ]
  },
  {
   "cell_type": "code",
   "execution_count": 8,
   "metadata": {},
   "outputs": [],
   "source": [
    "df_train=prepare_data(df_train)\n",
    "df_test=prepare_data(df_test)"
   ]
  },
  {
   "cell_type": "code",
   "execution_count": 9,
   "metadata": {},
   "outputs": [
    {
     "name": "stdout",
     "output_type": "stream",
     "text": [
      "Best regParam: 0.01\n",
      "Best maxIter: 100\n",
      "Training Accuracy: 0.8779465992238933\n",
      "Test Accuracy: 0.8733634573050632\n"
     ]
    }
   ],
   "source": [
    "Grid_Search(df_train.cache(),df_test.cache())"
   ]
  },
  {
   "attachments": {},
   "cell_type": "markdown",
   "metadata": {},
   "source": [
    "> ***\n",
    "> ### `Final Remark:`\n",
    "> `The preprocess didnot matter that much, the accuracy difference was negligible `\n",
    "> ***"
   ]
  }
 ],
 "metadata": {
  "kernelspec": {
   "display_name": "Python 3",
   "language": "python",
   "name": "python3"
  },
  "language_info": {
   "codemirror_mode": {
    "name": "ipython",
    "version": 3
   },
   "file_extension": ".py",
   "mimetype": "text/x-python",
   "name": "python",
   "nbconvert_exporter": "python",
   "pygments_lexer": "ipython3",
   "version": "3.11.1"
  },
  "orig_nbformat": 4
 },
 "nbformat": 4,
 "nbformat_minor": 2
}
