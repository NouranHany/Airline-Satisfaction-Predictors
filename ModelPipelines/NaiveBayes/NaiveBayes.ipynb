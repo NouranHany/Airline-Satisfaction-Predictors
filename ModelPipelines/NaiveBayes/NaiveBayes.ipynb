{
 "cells": [
  {
   "cell_type": "code",
   "execution_count": 16,
   "metadata": {},
   "outputs": [],
   "source": [
    "from NaiveBayes import spark, process_dataframe, sc\n",
    "from math import log"
   ]
  },
  {
   "attachments": {},
   "cell_type": "markdown",
   "metadata": {},
   "source": [
    "## Training"
   ]
  },
  {
   "cell_type": "code",
   "execution_count": 17,
   "metadata": {},
   "outputs": [],
   "source": [
    "df = spark.read \\\n",
    "    .option(\"header\", True) \\\n",
    "    .option(\"inferSchema\", True) \\\n",
    "    .csv(\"../../DataFiles/airline-train.csv\")\n",
    "\n",
    "df, string_indexers, bucketizers = process_dataframe(df)"
   ]
  },
  {
   "cell_type": "code",
   "execution_count": 18,
   "metadata": {},
   "outputs": [
    {
     "name": "stdout",
     "output_type": "stream",
     "text": [
      "Label used:  satisfaction_index\n",
      "Features used:  ['Food and drink', 'Age_bucket', 'Gender_index', 'Customer Type_index', 'On-board service', 'Leg room service', 'Flight Distance_bucket', 'Type of Travel_index', 'Arrival Delay in Minutes_bucket', 'Checkin service', 'Inflight entertainment', 'Baggage handling', 'Departure/Arrival time convenient', 'Inflight service', 'Seat comfort', 'Inflight wifi service', 'Departure Delay in Minutes_bucket', 'Class_index', 'Cleanliness', 'Gate location', 'Online boarding', 'Ease of Online booking']\n"
     ]
    }
   ],
   "source": [
    "LABEL_COL = \"satisfaction_index\"\n",
    "FEATURES_COL = list(set(df.columns) - set([LABEL_COL]))\n",
    "print(\"Label used: \", LABEL_COL)\n",
    "print(\"Features used: \", FEATURES_COL)"
   ]
  },
  {
   "cell_type": "code",
   "execution_count": 19,
   "metadata": {},
   "outputs": [
    {
     "name": "stderr",
     "output_type": "stream",
     "text": [
      "[Stage 62:===================>                                      (1 + 2) / 3]\r"
     ]
    },
    {
     "name": "stdout",
     "output_type": "stream",
     "text": [
      "Prior probability:  {0: -0.5680907948876823, 1: -0.8361084357191146}\n"
     ]
    },
    {
     "name": "stderr",
     "output_type": "stream",
     "text": [
      "                                                                                \r"
     ]
    }
   ],
   "source": [
    "# Prior probability\n",
    "def mapper(rows):\n",
    "    result = []\n",
    "    for row in rows:\n",
    "        result.append((row[LABEL_COL], 1))\n",
    "    return result\n",
    "\n",
    "def reducer(row):\n",
    "    key, iterable = row\n",
    "    count = 0\n",
    "    for val in iterable:\n",
    "        count += val\n",
    "    return [(key, count)]\n",
    "\n",
    "prior = df.rdd.mapPartitions(mapper).groupByKey().flatMap(reducer).collect()\n",
    "total = sum([x[1] for x in prior])\n",
    "prior_dict = dict([(x[0], log(x[1]/total)) for x in prior])\n",
    "print(\"Prior probability: \", prior_dict)"
   ]
  },
  {
   "cell_type": "code",
   "execution_count": 20,
   "metadata": {},
   "outputs": [
    {
     "name": "stderr",
     "output_type": "stream",
     "text": [
      "[Stage 64:======================================>                   (2 + 1) / 3]\r"
     ]
    },
    {
     "name": "stdout",
     "output_type": "stream",
     "text": [
      "Posterior probability:  {0: {'Food and drink': {5: -4.857352089312658, 1: -4.837422463623326, 2: -4.567654112941535, 4: -4.718045179935243, 3: -4.566163466470388, 0: -10.045834659807948}, 'Age_bucket': {0: -5.08086940254488, 2: -5.199821345406245, 6: -5.803737392238248, 5: -5.758560324868133, 1: -5.319237292484483, 8: -5.599409022657341, 4: -5.432129571370019, 9: -5.106107335134743, 3: -5.297028059337139, 7: -5.650944685203309}, 'Gender_index': {1: -3.810374065226739, 0: -3.758673368704047}, 'Customer Type_index': {0: -3.3735982992324356, 1: -4.49287507488633}, 'On-board service': {4: -4.506954906004798, 1: -4.90783276979125, 2: -4.77558613461609, 3: -4.417250495097482, 5: -5.031159916236591, 0: -12.972574061874987}, 'Leg room service': {3: -4.483780344980447, 5: -4.913403229305589, 4: -4.680192478873656, 2: -4.5155555934948195, 1: -5.056739215390963, 0: -8.354158649136874}, 'Flight Distance_bucket': {2: -5.226561667157795, 0: -5.284729672199096, 3: -5.2082780554244685, 6: -5.295019250811822, 5: -5.211964956934965, 1: -5.197998446492991, 4: -5.227138451600606, 8: -5.793012059599359, 9: -6.294231947220655, 7: -5.718867802317093}, 'Type of Travel_index': {1: -3.800766639615588, 0: -3.767882950297503}, 'Arrival Delay in Minutes_bucket': {2: -5.314661347616125, 1: -5.240643339926501, 0: -3.7032731970752946, 3: -5.233069752895276, 4: -5.247832865429305}, 'Checkin service': {4: -4.412896258852594, 1: -4.8835006691317195, 3: -4.413663277106881, 5: -5.080994020901325, 2: -4.901043168318327, 0: -14.071186350543096}, 'Inflight entertainment': {5: -4.984370464852411, 1: -4.793093876516095, 2: -4.536663235078438, 4: -4.731485773261206, 3: -4.529099174953032, 0: -11.432129020927839}, 'Baggage handling': {4: -4.200997083408483, 3: -4.408560899814859, 1: -5.539104546633109, 5: -4.81472604295336, 2: -5.07329690034238}, 'Departure/Arrival time convenient': {4: -4.416480721501193, 2: -4.9118235333317815, 5: -4.611177348313349, 3: -4.855261600273013, 1: -5.092399797241094, 0: -6.143140749668319}, 'Inflight service': {5: -4.807874093800808, 4: -4.1795689705774555, 1: -5.550598926058844, 3: -4.429453248448834, 2: -5.087119422890051, 0: -12.972574061874987}, 'Seat comfort': {5: -4.940430457909756, 1: -4.9290177586702475, 2: -4.71969369881103, 3: -4.4757876802364125, 4: -4.531038761064486, 0: -14.071186350543096}, 'Inflight wifi service': {3: -4.201927989557629, 2: -4.200945391800604, 1: -4.678941175269301, 4: -5.094671378227984, 5: -9.40774725643103, 0: -11.991744808863261}, 'Departure Delay in Minutes_bucket': {3: -5.28381336181122, 0: -3.656133447905978, 2: -5.343894321333458, 4: -5.268363190801209, 1: -5.3773543854684025}, 'Class_index': {2: -5.434966452705218, 0: -4.445892692586441, 1: -3.5278996529489475}, 'Cleanliness': {5: -4.98290062457422, 1: -4.796088731351635, 2: -4.625536730353833, 4: -4.630766536251592, 3: -4.5297452857476115, 0: -11.586279700755096}, 'Gate location': {1: -4.984823158386624, 3: -4.240269490841804, 5: -5.384925718011321, 2: -4.817116215705589, 4: -4.462405485395714}, 'Online boarding': {3: -4.230106258135586, 2: -4.426663846361255, 5: -6.189626433486198, 1: -4.94564163027163, 4: -4.715707212900675, 0: -7.092972607912398}, 'Ease of Online booking': {3: -4.338605749985669, 5: -5.877786118590999, 2: -4.349640426982638, 4: -4.949458636923517, 1: -4.774943549566211, 0: -6.757965963452795}}, 1: {'Food and drink': {5: -4.393649663875104, 4: -4.349176525789921, 3: -4.7194124898449346, 1: -5.954234983347593, 2: -4.754053986234703, 0: -9.911348411601038}, 'Age_bucket': {2: -5.572857910576643, 9: -5.614757401632634, 7: -5.069252534784139, 3: -5.454157511535662, 5: -5.153544731114937, 6: -5.202737919725371, 1: -5.599864682916381, 4: -5.447553713951482, 8: -5.054070461312644, 0: -6.332944573811698}, 'Gender_index': {0: -3.7832768493054334, 1: -3.785103252468101}, 'Customer Type_index': {0: -3.1962619153449867, 1: -5.394897925519613}, 'On-board service': {4: -4.090418023570838, 3: -4.9231395922432215, 5: -4.177412898774149, 1: -6.066425027258169, 2: -5.575793202877629}, 'Leg room service': {3: -5.197598407678014, 4: -4.0785686172352085, 5: -4.179990475297904, 2: -5.219251886252518, 1: -6.158727948155098, 0: -8.691180921355121}, 'Flight Distance_bucket': {6: -5.535206404372955, 0: -5.6172612282293395, 7: -5.087452582163464, 5: -5.6704622200184, 8: -5.03257437982052, 2: -5.700885085231591, 1: -5.66052352376887, 4: -5.687647828164895, 9: -4.81847501926781, 3: -5.6716379991074115}, 'Type of Travel_index': {0: -3.1664962895840603, 1: -5.712766413118343}, 'Arrival Delay in Minutes_bucket': {0: -3.543826549620706, 4: -5.569400000494566, 2: -5.621728013992291, 1: -5.24061981657463, 3: -5.566483386999208}, 'Checkin service': {4: -4.305846510398094, 3: -4.352473749690917, 2: -5.717374008430095, 5: -4.367128057639582, 1: -5.77178337908613}, 'Inflight entertainment': {5: -4.103818967250387, 3: -5.257193716869975, 4: -4.00760049939503, 1: -6.341528317503089, 2: -5.5736575907472075}, 'Baggage handling': {4: -4.0089939171162365, 5: -4.0875178946576005, 2: -5.6725207415510805, 3: -5.316847181962514, 1: -6.130876254082909}, 'Departure/Arrival time convenient': {2: -4.862146726170304, 3: -4.835282137584191, 4: -4.60500213866719, 0: -5.972743091891333, 1: -4.877980280333637, 5: -4.644437471468712}, 'Inflight service': {4: -4.000496462414352, 3: -5.31994603786658, 5: -4.09223488453574, 2: -5.660232699279398, 1: -6.1795267632000925}, 'Seat comfort': {5: -4.052948893578754, 4: -4.017620455040222, 1: -5.905872237115779, 3: -5.523217993989138, 2: -5.692441126737175}, 'Inflight wifi service': {2: -5.037710178207437, 3: -5.029474563327221, 4: -4.42545122832735, 5: -4.467959355689612, 1: -5.139972224175584, 0: -5.767889798566998}, 'Departure Delay in Minutes_bucket': {0: -3.5584701662071496, 1: -5.338743583834082, 4: -5.584651132222073, 3: -5.546561365085506, 2: -5.400488905084187}, 'Class_index': {0: -3.357647606285352, 1: -4.735429306334503, 2: -6.287824138531229}, 'Cleanliness': {5: -4.273066371820289, 3: -4.536353490807502, 4: -4.220368631241302, 1: -5.937213295778163, 2: -5.663436429993994}, 'Gate location': {2: -4.703871636528806, 3: -4.603990402441673, 4: -4.648552486507843, 1: -4.734737583918174, 5: -4.825643508746422, 0: -13.803168709711665}, 'Online boarding': {5: -4.004819475298841, 4: -3.9452540024702927, 2: -6.196284178492034, 1: -6.509470989110227, 0: -6.5975335333013, 3: -5.812253246620339}, 'Ease of Online booking': {2: -4.909047068329452, 3: -4.878911688823566, 4: -4.5578473688402354, 5: -4.573221808096563, 1: -5.013051816819191, 0: -5.805841886713567}}}\n"
     ]
    },
    {
     "name": "stderr",
     "output_type": "stream",
     "text": [
      "                                                                                \r"
     ]
    }
   ],
   "source": [
    "# Posterior probability\n",
    "def mapper(rows):\n",
    "    result = []\n",
    "    dict = {}\n",
    "\n",
    "    for row in rows:\n",
    "        for feature in FEATURES_COL:\n",
    "            if row[LABEL_COL] not in dict:\n",
    "                dict[row[LABEL_COL]] = {}\n",
    "            if feature not in dict[row[LABEL_COL]]:\n",
    "                dict[row[LABEL_COL]][feature] = {}\n",
    "            if row[feature] not in dict[row[LABEL_COL]][feature]:\n",
    "                dict[row[LABEL_COL]][feature][row[feature]] = 0\n",
    "            dict[row[LABEL_COL]][feature][row[feature]] += 1\n",
    "\n",
    "    for label in dict:\n",
    "        for feature in dict[label]:\n",
    "            for value in dict[label][feature]:\n",
    "                result.append((label, (feature, value, dict[label][feature][value])))\n",
    "    return result\n",
    "\n",
    "def reducer(row):\n",
    "    key, iterable = row\n",
    "    dict = {}\n",
    "    iterable = list(iterable)\n",
    "    total_count = 0\n",
    "    result = []\n",
    "\n",
    "    for i in range(len(iterable)):\n",
    "        feature = iterable[i][0]\n",
    "        value = iterable[i][1]\n",
    "        value_count = iterable[i][2]\n",
    "        total_count += value_count\n",
    "        if feature not in dict:\n",
    "            dict[feature] = {}\n",
    "        if value not in dict[feature]:\n",
    "            dict[feature][value] = 0\n",
    "        dict[feature][value] += value_count\n",
    "\n",
    "    for feature in dict:\n",
    "        for value in dict[feature]:\n",
    "            result.append((key, feature, value, dict[feature][value] / total_count))\n",
    "    return result\n",
    "\n",
    "posterior = df.rdd.mapPartitions(mapper).groupByKey().flatMap(reducer).collect()\n",
    "posterior_dict={}\n",
    "for i in range(len(posterior)):\n",
    "    label = posterior[i][0]\n",
    "    feature = posterior[i][1]\n",
    "    value = posterior[i][2]\n",
    "    prob = posterior[i][3]\n",
    "    if label not in posterior_dict:\n",
    "        posterior_dict[label] = {}\n",
    "    if feature not in posterior_dict[label]:\n",
    "        posterior_dict[label][feature] = {}\n",
    "    posterior_dict[label][feature][value] = log(prob)\n",
    "\n",
    "print(\"Posterior probability: \", posterior_dict)"
   ]
  },
  {
   "cell_type": "code",
   "execution_count": 21,
   "metadata": {},
   "outputs": [],
   "source": [
    "def predict(row):\n",
    "    dict = {}# Dictionary of label and probability\n",
    "    for label in prior_dict:\n",
    "        prob = prior_dict[label]\n",
    "        for feature in FEATURES_COL:\n",
    "            if row[feature] in posterior_dict[label][feature]:\n",
    "                prob += posterior_dict[label][feature][row[feature]]\n",
    "            else:\n",
    "                prob += log(0.000001)# Smoothing\n",
    "        dict[label] = prob\n",
    "    return max(dict, key=dict.get)"
   ]
  },
  {
   "cell_type": "code",
   "execution_count": 22,
   "metadata": {},
   "outputs": [
    {
     "name": "stderr",
     "output_type": "stream",
     "text": [
      "                                                                                \r"
     ]
    },
    {
     "name": "stdout",
     "output_type": "stream",
     "text": [
      "Training accuracy:  0.8941154893140529\n"
     ]
    }
   ],
   "source": [
    "# Trainig accuracy\n",
    "def mapper(rows):\n",
    "    result = []\n",
    "    for row in rows:\n",
    "        if predict(row) == row[LABEL_COL]:\n",
    "            result.append((0,1))\n",
    "        else:\n",
    "            result.append((0,0))\n",
    "    return result\n",
    "  \n",
    "def reducer(row):\n",
    "    count = 0\n",
    "    for val in row[1]:\n",
    "        count += val\n",
    "    return [(0, count)]\n",
    "\n",
    "correct = df.rdd.mapPartitions(mapper).groupByKey().flatMap(reducer).collect()[0][1]\n",
    "total = df.count()\n",
    "print(\"Training accuracy: \", correct / total)"
   ]
  },
  {
   "attachments": {},
   "cell_type": "markdown",
   "metadata": {},
   "source": [
    "## Validation"
   ]
  },
  {
   "cell_type": "code",
   "execution_count": 23,
   "metadata": {},
   "outputs": [],
   "source": [
    "df_val = spark.read \\\n",
    "    .option(\"header\", True) \\\n",
    "    .option(\"inferSchema\", True) \\\n",
    "    .csv(\"../../DataFiles/airline-val.csv\")\n",
    "df_val,_,_ = process_dataframe(df_val, string_indexers, bucketizers)"
   ]
  },
  {
   "cell_type": "code",
   "execution_count": 24,
   "metadata": {},
   "outputs": [
    {
     "name": "stderr",
     "output_type": "stream",
     "text": [
      "[Stage 73:>                                                         (0 + 1) / 1]\r"
     ]
    },
    {
     "name": "stdout",
     "output_type": "stream",
     "text": [
      "Validation accuracy:  0.8908585331942996\n"
     ]
    },
    {
     "name": "stderr",
     "output_type": "stream",
     "text": [
      "                                                                                \r"
     ]
    }
   ],
   "source": [
    "# validation accuracy\n",
    "correct = df_val.rdd.mapPartitions(mapper).groupByKey().flatMap(reducer).collect()[0][1]\n",
    "total = df_val.count()\n",
    "print(\"Validation accuracy: \", correct / total)"
   ]
  }
 ],
 "metadata": {
  "kernelspec": {
   "display_name": "base",
   "language": "python",
   "name": "python3"
  },
  "language_info": {
   "codemirror_mode": {
    "name": "ipython",
    "version": 3
   },
   "file_extension": ".py",
   "mimetype": "text/x-python",
   "name": "python",
   "nbconvert_exporter": "python",
   "pygments_lexer": "ipython3",
   "version": "3.10.4"
  },
  "orig_nbformat": 4,
  "vscode": {
   "interpreter": {
    "hash": "40d3a090f54c6569ab1632332b64b2c03c39dcf918b08424e98f38b5ae0af88f"
   }
  }
 },
 "nbformat": 4,
 "nbformat_minor": 2
}
