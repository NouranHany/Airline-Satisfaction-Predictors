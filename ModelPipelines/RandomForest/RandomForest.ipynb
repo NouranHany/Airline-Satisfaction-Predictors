{
 "cells": [
  {
   "cell_type": "code",
   "execution_count": 1,
   "metadata": {},
   "outputs": [
    {
     "name": "stderr",
     "output_type": "stream",
     "text": [
      "23/05/09 19:48:59 WARN Utils: Your hostname, codespaces-662bcc resolves to a loopback address: 127.0.0.1; using 172.16.5.4 instead (on interface eth0)\n",
      "23/05/09 19:48:59 WARN Utils: Set SPARK_LOCAL_IP if you need to bind to another address\n",
      "Setting default log level to \"WARN\".\n",
      "To adjust logging level use sc.setLogLevel(newLevel). For SparkR, use setLogLevel(newLevel).\n",
      "23/05/09 19:49:01 WARN NativeCodeLoader: Unable to load native-hadoop library for your platform... using builtin-java classes where applicable\n"
     ]
    }
   ],
   "source": [
    "from RandomForest import spark, process_dataframe, sc\n",
    "from pyspark.ml.feature import VectorAssembler\n",
    "from pyspark.ml.classification import RandomForestClassifier"
   ]
  },
  {
   "attachments": {},
   "cell_type": "markdown",
   "metadata": {},
   "source": [
    "## Training"
   ]
  },
  {
   "cell_type": "code",
   "execution_count": 2,
   "metadata": {},
   "outputs": [
    {
     "name": "stderr",
     "output_type": "stream",
     "text": [
      "                                                                                \r"
     ]
    }
   ],
   "source": [
    "df = spark.read \\\n",
    "    .option(\"header\", True) \\\n",
    "    .option(\"inferSchema\", True) \\\n",
    "    .csv(\"../../DataFiles/airline-train.csv\")\n",
    "\n",
    "df, string_indexers, bucketizers = process_dataframe(df)"
   ]
  },
  {
   "cell_type": "code",
   "execution_count": 3,
   "metadata": {},
   "outputs": [
    {
     "name": "stdout",
     "output_type": "stream",
     "text": [
      "Label used:  satisfaction_index\n",
      "Features used:  ['Arrival Delay in Minutes_bucket', 'Gate location', 'Inflight wifi service', 'Online boarding', 'Type of Travel_index', 'Inflight entertainment', 'Gender_index', 'Seat comfort', 'Class_index', 'Customer Type_index', 'Flight Distance_bucket', 'Age_bucket', 'On-board service', 'Leg room service', 'Ease of Online booking', 'Departure Delay in Minutes_bucket', 'Food and drink', 'Baggage handling', 'Inflight service', 'Cleanliness', 'Departure/Arrival time convenient', 'Checkin service']\n"
     ]
    }
   ],
   "source": [
    "LABEL_COL = \"satisfaction_index\"\n",
    "FEATURES_COL = list(set(df.columns) - set([LABEL_COL]))\n",
    "print(\"Label used: \", LABEL_COL)\n",
    "print(\"Features used: \", FEATURES_COL)"
   ]
  },
  {
   "cell_type": "code",
   "execution_count": 4,
   "metadata": {},
   "outputs": [],
   "source": [
    "assembler = VectorAssembler(inputCols=FEATURES_COL, outputCol=\"features\")\n",
    "df = assembler.transform(df)"
   ]
  },
  {
   "cell_type": "code",
   "execution_count": 14,
   "metadata": {},
   "outputs": [
    {
     "name": "stderr",
     "output_type": "stream",
     "text": [
      "[Stage 83:>                                                         (0 + 3) / 3]\r"
     ]
    },
    {
     "name": "stdout",
     "output_type": "stream",
     "text": [
      "Training Accuracy:  0.9238179817363943\n"
     ]
    },
    {
     "name": "stderr",
     "output_type": "stream",
     "text": [
      "                                                                                \r"
     ]
    }
   ],
   "source": [
    "rf = RandomForestClassifier(labelCol=LABEL_COL, featuresCol=\"features\", numTrees=50)\n",
    "model = rf.fit(df)\n",
    "# Training accuracy\n",
    "accuracy = model.transform(df).select(\"satisfaction_index\", \"prediction\").rdd.map(lambda x: 1.0 if x[0] == x[1] else 0.0).mean()\n",
    "print(\"Training Accuracy: \", accuracy)"
   ]
  },
  {
   "attachments": {},
   "cell_type": "markdown",
   "metadata": {},
   "source": [
    "## Validation"
   ]
  },
  {
   "cell_type": "code",
   "execution_count": 15,
   "metadata": {},
   "outputs": [],
   "source": [
    "df_val = spark.read \\\n",
    "    .option(\"header\", True) \\\n",
    "    .option(\"inferSchema\", True) \\\n",
    "    .csv(\"../../DataFiles/airline-val.csv\")\n",
    "\n",
    "df_val, _, _ = process_dataframe(df_val, string_indexers, bucketizers)\n",
    "assembler = VectorAssembler(inputCols=FEATURES_COL, outputCol=\"features\")\n",
    "df_val = assembler.transform(df_val)"
   ]
  },
  {
   "cell_type": "code",
   "execution_count": 16,
   "metadata": {},
   "outputs": [
    {
     "name": "stdout",
     "output_type": "stream",
     "text": [
      "Validation Accuracy:  0.9243038659097063\n"
     ]
    },
    {
     "name": "stderr",
     "output_type": "stream",
     "text": [
      "                                                                                \r"
     ]
    }
   ],
   "source": [
    "# Validation accuracy\n",
    "accuracy = model.transform(df_val).select(\"satisfaction_index\", \"prediction\").rdd.map(lambda x: 1.0 if x[0] == x[1] else 0.0).mean()\n",
    "print(\"Validation Accuracy: \", accuracy)"
   ]
  }
 ],
 "metadata": {
  "kernelspec": {
   "display_name": "Python 3",
   "language": "python",
   "name": "python3"
  },
  "language_info": {
   "codemirror_mode": {
    "name": "ipython",
    "version": 3
   },
   "file_extension": ".py",
   "mimetype": "text/x-python",
   "name": "python",
   "nbconvert_exporter": "python",
   "pygments_lexer": "ipython3",
   "version": "3.10.4"
  },
  "orig_nbformat": 4
 },
 "nbformat": 4,
 "nbformat_minor": 2
}
